{
 "cells": [
  {
   "cell_type": "markdown",
   "metadata": {},
   "source": [
    "# Quiz: querying the Iris data set"
   ]
  },
  {
   "cell_type": "markdown",
   "metadata": {},
   "source": [
    "## Python imports"
   ]
  },
  {
   "cell_type": "code",
   "execution_count": 2,
   "metadata": {},
   "outputs": [
    {
     "name": "stdout",
     "output_type": "stream",
     "text": [
      "Defaulting to user installation because normal site-packages is not writeable\n",
      "Requirement already satisfied: pandas in /usr/local/lib/python3.8/dist-packages (2.0.3)\n",
      "Collecting scikit-learn\n",
      "  Downloading scikit_learn-1.3.2-cp38-cp38-manylinux_2_17_x86_64.manylinux2014_x86_64.whl.metadata (11 kB)\n",
      "Requirement already satisfied: python-dateutil>=2.8.2 in /usr/local/lib/python3.8/dist-packages (from pandas) (2.8.2)\n",
      "Requirement already satisfied: pytz>=2020.1 in /usr/local/lib/python3.8/dist-packages (from pandas) (2023.3.post1)\n",
      "Requirement already satisfied: tzdata>=2022.1 in /usr/local/lib/python3.8/dist-packages (from pandas) (2023.3)\n",
      "Requirement already satisfied: numpy>=1.20.3 in /usr/local/lib/python3.8/dist-packages (from pandas) (1.24.4)\n",
      "Requirement already satisfied: scipy>=1.5.0 in /usr/local/lib/python3.8/dist-packages (from scikit-learn) (1.10.1)\n",
      "Collecting joblib>=1.1.1 (from scikit-learn)\n",
      "  Downloading joblib-1.3.2-py3-none-any.whl.metadata (5.4 kB)\n",
      "Collecting threadpoolctl>=2.0.0 (from scikit-learn)\n",
      "  Downloading threadpoolctl-3.3.0-py3-none-any.whl.metadata (13 kB)\n",
      "Requirement already satisfied: six>=1.5 in /usr/lib/python3/dist-packages (from python-dateutil>=2.8.2->pandas) (1.14.0)\n",
      "Downloading scikit_learn-1.3.2-cp38-cp38-manylinux_2_17_x86_64.manylinux2014_x86_64.whl (11.1 MB)\n",
      "\u001b[2K   \u001b[90m━━━━━━━━━━━━━━━━━━━━━━━━━━━━━━━━━━━━━━━━\u001b[0m \u001b[32m11.1/11.1 MB\u001b[0m \u001b[31m969.0 kB/s\u001b[0m eta \u001b[36m0:00:00\u001b[0m00:01\u001b[0m00:01\u001b[0m\n",
      "\u001b[?25hDownloading joblib-1.3.2-py3-none-any.whl (302 kB)\n",
      "\u001b[2K   \u001b[90m━━━━━━━━━━━━━━━━━━━━━━━━━━━━━━━━━━━━━━━\u001b[0m \u001b[32m302.2/302.2 kB\u001b[0m \u001b[31m662.0 kB/s\u001b[0m eta \u001b[36m0:00:00\u001b[0m00:01\u001b[0m0:01\u001b[0m\n",
      "\u001b[?25hDownloading threadpoolctl-3.3.0-py3-none-any.whl (17 kB)\n",
      "Installing collected packages: threadpoolctl, joblib, scikit-learn\n",
      "Successfully installed joblib-1.3.2 scikit-learn-1.3.2 threadpoolctl-3.3.0\n",
      "Note: you may need to restart the kernel to use updated packages.\n"
     ]
    }
   ],
   "source": [
    "pip install pandas scikit-learn"
   ]
  },
  {
   "cell_type": "code",
   "execution_count": 3,
   "metadata": {},
   "outputs": [],
   "source": [
    "import pandas as pd\n",
    "from sklearn.neighbors import KDTree"
   ]
  },
  {
   "cell_type": "markdown",
   "metadata": {},
   "source": [
    "## Reading iris data set file"
   ]
  },
  {
   "cell_type": "code",
   "execution_count": 4,
   "metadata": {},
   "outputs": [
    {
     "name": "stdout",
     "output_type": "stream",
     "text": [
      "      sepal_len  sepal_wid  petal_len  petal_wid          species\n",
      "0      9.244480    7.60697    4.09570    6.77380   Iris-virginica\n",
      "1      6.265530    6.99683    3.92810    4.91140   Iris-virginica\n",
      "2      6.751440    3.58948    7.68593    8.75175   Iris-virginica\n",
      "3      1.548480    5.36283    7.35442    3.86181   Iris-virginica\n",
      "4      4.779240    9.94172    1.17725    9.46061  Iris-versicolor\n",
      "...         ...        ...        ...        ...              ...\n",
      "9995   9.219160    1.13951    3.21475    1.99785  Iris-versicolor\n",
      "9996   4.652160    5.60719    6.36031    4.76450   Iris-virginica\n",
      "9997   7.465590    8.25515    9.80974    6.86652   Iris-virginica\n",
      "9998   0.869625    5.84315    5.74667    9.94332      Iris-setosa\n",
      "9999   6.992820    2.13700    4.61055    4.68327   Iris-virginica\n",
      "\n",
      "[10000 rows x 5 columns]\n"
     ]
    }
   ],
   "source": [
    "fname = \"../csv/iris_large.csv\"\n",
    "data = pd.read_csv(fname, delimiter=' ', header=0)\n",
    "print(data)"
   ]
  },
  {
   "cell_type": "markdown",
   "metadata": {},
   "source": [
    "## Create the kd-tree"
   ]
  },
  {
   "cell_type": "code",
   "execution_count": 5,
   "metadata": {},
   "outputs": [
    {
     "name": "stdout",
     "output_type": "stream",
     "text": [
      "\n",
      "building kd-tree... done\n"
     ]
    }
   ],
   "source": [
    "print('\\nbuilding kd-tree...', end='')\n",
    "kdt = KDTree(data.iloc[:,0:4], leaf_size=1, metric='euclidean')\n",
    "print(' done')"
   ]
  },
  {
   "cell_type": "markdown",
   "metadata": {},
   "source": [
    "## Nearest neighbor queries"
   ]
  },
  {
   "cell_type": "code",
   "execution_count": 16,
   "metadata": {},
   "outputs": [
    {
     "name": "stdout",
     "output_type": "stream",
     "text": [
      "\n",
      "  my measurements [sepal_len, sepal_wid, petal_len, petal_wid] are:  [41.1, 32.2, 23.3, 14.4]\n",
      "    -> the iris [41.1, 32.2, 23.3, 14.4] is closest to type Iris-virginica\n",
      "\t Index/indices of the 5 closest point(s): [6273  799 8540 6101 3708]\n",
      "\t Distance(s) to the 5 closest point(s): [41.30594886 41.40730265 41.62237909 41.64224525 41.72873708]\n",
      "\t Average distance: 41.5413225859211\n"
     ]
    }
   ],
   "source": [
    "x = [41.1, 32.2, 23.3, 14.4]\n",
    "print('\\n  my measurements [sepal_len, sepal_wid, petal_len, petal_wid] are: ', x)\n",
    "\n",
    "# to find the type of the nearest neighbor of x\n",
    "k = 5\n",
    "dist, idx = kdt.query([x], k)\n",
    "print(f'    -> the iris {x} is closest to type {data.iloc[idx[0, 0],4]}')\n",
    "\n",
    "# to print the index (i.e., the position) and the distance of the k nearest neighbors\n",
    "print(f'\\t Index/indices of the {len(idx[0])} closest point(s): {idx[0]}')\n",
    "print(f'\\t Distance(s) to the {len(dist[0])} closest point(s): {dist[0]}')\n",
    "print(f'\\t Average distance: {sum(dist[0])/k}')"
   ]
  }
 ],
 "metadata": {
  "kernelspec": {
   "display_name": "Python 3",
   "language": "python",
   "name": "python3"
  },
  "language_info": {
   "codemirror_mode": {
    "name": "ipython",
    "version": 3
   },
   "file_extension": ".py",
   "mimetype": "text/x-python",
   "name": "python",
   "nbconvert_exporter": "python",
   "pygments_lexer": "ipython3",
   "version": "3.8.10"
  }
 },
 "nbformat": 4,
 "nbformat_minor": 2
}
